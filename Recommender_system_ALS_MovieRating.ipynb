{
  "nbformat": 4,
  "nbformat_minor": 0,
  "metadata": {
    "kernelspec": {
      "display_name": "Python 3",
      "language": "python",
      "name": "python3"
    },
    "language_info": {
      "codemirror_mode": {
        "name": "ipython",
        "version": 3
      },
      "file_extension": ".py",
      "mimetype": "text/x-python",
      "name": "python",
      "nbconvert_exporter": "python",
      "pygments_lexer": "ipython3",
      "version": "3.7.3"
    },
    "colab": {
      "name": "Recommendation_Engine_MovieLens.ipynb",
      "provenance": [],
      "collapsed_sections": []
    }
  },
  "cells": [
    {
      "cell_type": "markdown",
      "metadata": {
        "id": "-If200TdXYAj"
      },
      "source": [
        "## Assignment 2 DAT410 - Design of AI systems\r\n",
        "## Martin Hansson\r\n",
        "\r\n",
        "\r\n"
      ]
    },
    {
      "cell_type": "markdown",
      "metadata": {
        "id": "dK7MwMg4-qLM"
      },
      "source": [
        "### Import libraries"
      ]
    },
    {
      "cell_type": "code",
      "metadata": {
        "id": "IUADQet5-qLP"
      },
      "source": [
        "import pandas as pd\n",
        "from pyspark.sql.functions import col, explode\n",
        "from pyspark import SparkContext\n",
        "import numpy as np\n",
        "import pyspark"
      ],
      "execution_count": 130,
      "outputs": []
    },
    {
      "cell_type": "markdown",
      "metadata": {
        "id": "4YDESCNF-qLP"
      },
      "source": [
        "### Initiate spark session"
      ]
    },
    {
      "cell_type": "code",
      "metadata": {
        "id": "m3U9nhhg-qLP"
      },
      "source": [
        "from pyspark.sql import SparkSession\n",
        "sc = SparkContext\n",
        "# sc.setCheckpointDir('checkpoint')\n",
        "spark = SparkSession.builder.appName('Recommendations').getOrCreate()"
      ],
      "execution_count": 131,
      "outputs": []
    },
    {
      "cell_type": "markdown",
      "metadata": {
        "id": "sUkWOF9B-qLQ"
      },
      "source": [
        "# 1. Load data"
      ]
    },
    {
      "cell_type": "markdown",
      "metadata": {
        "id": "HlZKHnvqNP2n"
      },
      "source": [
        "### User reviews"
      ]
    },
    {
      "cell_type": "code",
      "metadata": {
        "colab": {
          "base_uri": "https://localhost:8080/",
          "height": 402
        },
        "id": "82dnCaTVDzPp",
        "outputId": "6df3a525-1d73-4a9d-9581-b9dada43784a"
      },
      "source": [
        "user = pd.read_csv(\"user_reviews.csv\")  #reading data\r\n",
        "user=user[['Unnamed: 0','User']] #selecting columns for use list\r\n",
        "user.rename(columns={user.columns[0]: 'userId',user.columns[1]: 'Name'}, inplace=True) #renaming columns\r\n",
        "user"
      ],
      "execution_count": 132,
      "outputs": [
        {
          "output_type": "execute_result",
          "data": {
            "text/html": [
              "<div>\n",
              "<style scoped>\n",
              "    .dataframe tbody tr th:only-of-type {\n",
              "        vertical-align: middle;\n",
              "    }\n",
              "\n",
              "    .dataframe tbody tr th {\n",
              "        vertical-align: top;\n",
              "    }\n",
              "\n",
              "    .dataframe thead th {\n",
              "        text-align: right;\n",
              "    }\n",
              "</style>\n",
              "<table border=\"1\" class=\"dataframe\">\n",
              "  <thead>\n",
              "    <tr style=\"text-align: right;\">\n",
              "      <th></th>\n",
              "      <th>userId</th>\n",
              "      <th>Name</th>\n",
              "    </tr>\n",
              "  </thead>\n",
              "  <tbody>\n",
              "    <tr>\n",
              "      <th>0</th>\n",
              "      <td>0</td>\n",
              "      <td>Vincent</td>\n",
              "    </tr>\n",
              "    <tr>\n",
              "      <th>1</th>\n",
              "      <td>1</td>\n",
              "      <td>Edgar</td>\n",
              "    </tr>\n",
              "    <tr>\n",
              "      <th>2</th>\n",
              "      <td>2</td>\n",
              "      <td>Addilyn</td>\n",
              "    </tr>\n",
              "    <tr>\n",
              "      <th>3</th>\n",
              "      <td>3</td>\n",
              "      <td>Marlee</td>\n",
              "    </tr>\n",
              "    <tr>\n",
              "      <th>4</th>\n",
              "      <td>4</td>\n",
              "      <td>Javier</td>\n",
              "    </tr>\n",
              "    <tr>\n",
              "      <th>...</th>\n",
              "      <td>...</td>\n",
              "      <td>...</td>\n",
              "    </tr>\n",
              "    <tr>\n",
              "      <th>595</th>\n",
              "      <td>595</td>\n",
              "      <td>Mariana</td>\n",
              "    </tr>\n",
              "    <tr>\n",
              "      <th>596</th>\n",
              "      <td>596</td>\n",
              "      <td>Ivy</td>\n",
              "    </tr>\n",
              "    <tr>\n",
              "      <th>597</th>\n",
              "      <td>597</td>\n",
              "      <td>Kevin</td>\n",
              "    </tr>\n",
              "    <tr>\n",
              "      <th>598</th>\n",
              "      <td>598</td>\n",
              "      <td>Nora</td>\n",
              "    </tr>\n",
              "    <tr>\n",
              "      <th>599</th>\n",
              "      <td>599</td>\n",
              "      <td>Sarai</td>\n",
              "    </tr>\n",
              "  </tbody>\n",
              "</table>\n",
              "<p>600 rows × 2 columns</p>\n",
              "</div>"
            ],
            "text/plain": [
              "     userId     Name\n",
              "0         0  Vincent\n",
              "1         1    Edgar\n",
              "2         2  Addilyn\n",
              "3         3   Marlee\n",
              "4         4   Javier\n",
              "..      ...      ...\n",
              "595     595  Mariana\n",
              "596     596      Ivy\n",
              "597     597    Kevin\n",
              "598     598     Nora\n",
              "599     599    Sarai\n",
              "\n",
              "[600 rows x 2 columns]"
            ]
          },
          "metadata": {
            "tags": []
          },
          "execution_count": 132
        }
      ]
    },
    {
      "cell_type": "code",
      "metadata": {
        "colab": {
          "base_uri": "https://localhost:8080/",
          "height": 343
        },
        "id": "og0rp-no-qLQ",
        "outputId": "bd3226d4-7c8b-46e6-c482-21f3b56d035c"
      },
      "source": [
        "rating_pd = pd.read_csv(\"user_reviews.csv\")  #reading data\n",
        "\n",
        "utility = rating_pd.drop(['Unnamed: 0', 'User'], axis =1) #selecting columns for utility matrix\n",
        "utility=utility.to_numpy()\n",
        "index = np.where(utility>0) # Find already rated user/movies\n",
        "a=np.transpose(np.asarray(index))\n",
        "\n",
        "#Create a list with rated movies/users\n",
        "rate=np.zeros((len(a),3))\n",
        "for i in range(len(a)):\n",
        "    rate[i,0]=a[i,0]\n",
        "    rate[i,1]=a[i,1]\n",
        "    rate[i,2]=utility[a[i,0],a[i,1]]\n",
        "\n",
        "rating_pd = pd.DataFrame(rate,columns=['userId', 'movieId','rating'])\n",
        "rating_pd.head(10)"
      ],
      "execution_count": 139,
      "outputs": [
        {
          "output_type": "execute_result",
          "data": {
            "text/html": [
              "<div>\n",
              "<style scoped>\n",
              "    .dataframe tbody tr th:only-of-type {\n",
              "        vertical-align: middle;\n",
              "    }\n",
              "\n",
              "    .dataframe tbody tr th {\n",
              "        vertical-align: top;\n",
              "    }\n",
              "\n",
              "    .dataframe thead th {\n",
              "        text-align: right;\n",
              "    }\n",
              "</style>\n",
              "<table border=\"1\" class=\"dataframe\">\n",
              "  <thead>\n",
              "    <tr style=\"text-align: right;\">\n",
              "      <th></th>\n",
              "      <th>userId</th>\n",
              "      <th>movieId</th>\n",
              "      <th>rating</th>\n",
              "    </tr>\n",
              "  </thead>\n",
              "  <tbody>\n",
              "    <tr>\n",
              "      <th>0</th>\n",
              "      <td>0.0</td>\n",
              "      <td>127.0</td>\n",
              "      <td>2.0</td>\n",
              "    </tr>\n",
              "    <tr>\n",
              "      <th>1</th>\n",
              "      <td>0.0</td>\n",
              "      <td>141.0</td>\n",
              "      <td>3.0</td>\n",
              "    </tr>\n",
              "    <tr>\n",
              "      <th>2</th>\n",
              "      <td>0.0</td>\n",
              "      <td>151.0</td>\n",
              "      <td>3.0</td>\n",
              "    </tr>\n",
              "    <tr>\n",
              "      <th>3</th>\n",
              "      <td>0.0</td>\n",
              "      <td>223.0</td>\n",
              "      <td>3.0</td>\n",
              "    </tr>\n",
              "    <tr>\n",
              "      <th>4</th>\n",
              "      <td>0.0</td>\n",
              "      <td>264.0</td>\n",
              "      <td>4.0</td>\n",
              "    </tr>\n",
              "    <tr>\n",
              "      <th>5</th>\n",
              "      <td>0.0</td>\n",
              "      <td>324.0</td>\n",
              "      <td>5.0</td>\n",
              "    </tr>\n",
              "    <tr>\n",
              "      <th>6</th>\n",
              "      <td>0.0</td>\n",
              "      <td>392.0</td>\n",
              "      <td>3.0</td>\n",
              "    </tr>\n",
              "    <tr>\n",
              "      <th>7</th>\n",
              "      <td>0.0</td>\n",
              "      <td>573.0</td>\n",
              "      <td>5.0</td>\n",
              "    </tr>\n",
              "    <tr>\n",
              "      <th>8</th>\n",
              "      <td>0.0</td>\n",
              "      <td>583.0</td>\n",
              "      <td>3.0</td>\n",
              "    </tr>\n",
              "    <tr>\n",
              "      <th>9</th>\n",
              "      <td>0.0</td>\n",
              "      <td>594.0</td>\n",
              "      <td>5.0</td>\n",
              "    </tr>\n",
              "  </tbody>\n",
              "</table>\n",
              "</div>"
            ],
            "text/plain": [
              "   userId  movieId  rating\n",
              "0     0.0    127.0     2.0\n",
              "1     0.0    141.0     3.0\n",
              "2     0.0    151.0     3.0\n",
              "3     0.0    223.0     3.0\n",
              "4     0.0    264.0     4.0\n",
              "5     0.0    324.0     5.0\n",
              "6     0.0    392.0     3.0\n",
              "7     0.0    573.0     5.0\n",
              "8     0.0    583.0     3.0\n",
              "9     0.0    594.0     5.0"
            ]
          },
          "metadata": {
            "tags": []
          },
          "execution_count": 139
        }
      ]
    },
    {
      "cell_type": "markdown",
      "metadata": {
        "id": "sQ9mxthROtoN"
      },
      "source": [
        "### Create list with unrated movies"
      ]
    },
    {
      "cell_type": "code",
      "metadata": {
        "colab": {
          "base_uri": "https://localhost:8080/",
          "height": 343
        },
        "id": "e-nhyI6k_hHF",
        "outputId": "9e470511-8016-4959-bedb-c916107b5e33"
      },
      "source": [
        "index = np.where(utility==0)\r\n",
        "b=np.transpose(np.asarray(index))\r\n",
        "X_new_pd =np.zeros((len(b),2))\r\n",
        "for i in range(len(b)):\r\n",
        "    X_new_pd[i,0]=b[i,0]\r\n",
        "    X_new_pd[i,1]=b[i,1]\r\n",
        "\r\n",
        "\r\n",
        "X_new_pd = pd.DataFrame(X_new_pd,columns=['userId', 'movieId'])\r\n",
        "X_new_pd.head(10)\r\n"
      ],
      "execution_count": 141,
      "outputs": [
        {
          "output_type": "execute_result",
          "data": {
            "text/html": [
              "<div>\n",
              "<style scoped>\n",
              "    .dataframe tbody tr th:only-of-type {\n",
              "        vertical-align: middle;\n",
              "    }\n",
              "\n",
              "    .dataframe tbody tr th {\n",
              "        vertical-align: top;\n",
              "    }\n",
              "\n",
              "    .dataframe thead th {\n",
              "        text-align: right;\n",
              "    }\n",
              "</style>\n",
              "<table border=\"1\" class=\"dataframe\">\n",
              "  <thead>\n",
              "    <tr style=\"text-align: right;\">\n",
              "      <th></th>\n",
              "      <th>userId</th>\n",
              "      <th>movieId</th>\n",
              "    </tr>\n",
              "  </thead>\n",
              "  <tbody>\n",
              "    <tr>\n",
              "      <th>0</th>\n",
              "      <td>0.0</td>\n",
              "      <td>0.0</td>\n",
              "    </tr>\n",
              "    <tr>\n",
              "      <th>1</th>\n",
              "      <td>0.0</td>\n",
              "      <td>1.0</td>\n",
              "    </tr>\n",
              "    <tr>\n",
              "      <th>2</th>\n",
              "      <td>0.0</td>\n",
              "      <td>2.0</td>\n",
              "    </tr>\n",
              "    <tr>\n",
              "      <th>3</th>\n",
              "      <td>0.0</td>\n",
              "      <td>3.0</td>\n",
              "    </tr>\n",
              "    <tr>\n",
              "      <th>4</th>\n",
              "      <td>0.0</td>\n",
              "      <td>4.0</td>\n",
              "    </tr>\n",
              "    <tr>\n",
              "      <th>5</th>\n",
              "      <td>0.0</td>\n",
              "      <td>5.0</td>\n",
              "    </tr>\n",
              "    <tr>\n",
              "      <th>6</th>\n",
              "      <td>0.0</td>\n",
              "      <td>6.0</td>\n",
              "    </tr>\n",
              "    <tr>\n",
              "      <th>7</th>\n",
              "      <td>0.0</td>\n",
              "      <td>7.0</td>\n",
              "    </tr>\n",
              "    <tr>\n",
              "      <th>8</th>\n",
              "      <td>0.0</td>\n",
              "      <td>8.0</td>\n",
              "    </tr>\n",
              "    <tr>\n",
              "      <th>9</th>\n",
              "      <td>0.0</td>\n",
              "      <td>9.0</td>\n",
              "    </tr>\n",
              "  </tbody>\n",
              "</table>\n",
              "</div>"
            ],
            "text/plain": [
              "   userId  movieId\n",
              "0     0.0      0.0\n",
              "1     0.0      1.0\n",
              "2     0.0      2.0\n",
              "3     0.0      3.0\n",
              "4     0.0      4.0\n",
              "5     0.0      5.0\n",
              "6     0.0      6.0\n",
              "7     0.0      7.0\n",
              "8     0.0      8.0\n",
              "9     0.0      9.0"
            ]
          },
          "metadata": {
            "tags": []
          },
          "execution_count": 141
        }
      ]
    },
    {
      "cell_type": "markdown",
      "metadata": {
        "id": "kbWoCYUNO9s4"
      },
      "source": [
        "### Reading movie genres data (NOTE: This data is not needed for prediction)"
      ]
    },
    {
      "cell_type": "code",
      "metadata": {
        "colab": {
          "base_uri": "https://localhost:8080/",
          "height": 343
        },
        "id": "-YXJtyKx9PBG",
        "outputId": "0b6807fa-5b06-4675-b506-297d462cb798"
      },
      "source": [
        "movie_genres = pd.read_csv(\"movie_genres.csv\")  #reading data\r\n",
        "\r\n",
        "for j in range(2,27):\r\n",
        "  col_name = movie_genres.columns[j]\r\n",
        "  movie_genres[col_name] = movie_genres[col_name].astype(str)\r\n",
        "  for i in range(0,len(movie_genres)):\r\n",
        "    if movie_genres.iat[i,j]=='1':\r\n",
        "      movie_genres.iat[i,j]=movie_genres.columns[j].replace('genre_', '|')+'|'\r\n",
        "    else:\r\n",
        "      movie_genres.iat[i,j]=''\r\n",
        "for i in range(0,len(movie_genres)):\r\n",
        "  movie_genres.iat[i,2]=movie_genres.iloc[i,2:27].str.cat(sep='')\r\n",
        "movie_genres.drop(movie_genres.columns[3:27],axis=1,inplace=True)\r\n",
        "movie_genres.columns = ['movieId', 'title','genres']\r\n",
        "movie_genres.head(10)\r\n",
        "\r\n",
        " "
      ],
      "execution_count": 135,
      "outputs": [
        {
          "output_type": "execute_result",
          "data": {
            "text/html": [
              "<div>\n",
              "<style scoped>\n",
              "    .dataframe tbody tr th:only-of-type {\n",
              "        vertical-align: middle;\n",
              "    }\n",
              "\n",
              "    .dataframe tbody tr th {\n",
              "        vertical-align: top;\n",
              "    }\n",
              "\n",
              "    .dataframe thead th {\n",
              "        text-align: right;\n",
              "    }\n",
              "</style>\n",
              "<table border=\"1\" class=\"dataframe\">\n",
              "  <thead>\n",
              "    <tr style=\"text-align: right;\">\n",
              "      <th></th>\n",
              "      <th>movieId</th>\n",
              "      <th>title</th>\n",
              "      <th>genres</th>\n",
              "    </tr>\n",
              "  </thead>\n",
              "  <tbody>\n",
              "    <tr>\n",
              "      <th>0</th>\n",
              "      <td>0</td>\n",
              "      <td>The Net</td>\n",
              "      <td>|action||crime||drama||mystery||thriller|</td>\n",
              "    </tr>\n",
              "    <tr>\n",
              "      <th>1</th>\n",
              "      <td>1</td>\n",
              "      <td>Happily N'Ever After</td>\n",
              "      <td>|adventure||animation||comedy||family||fantasy|</td>\n",
              "    </tr>\n",
              "    <tr>\n",
              "      <th>2</th>\n",
              "      <td>2</td>\n",
              "      <td>Tomorrowland</td>\n",
              "      <td>|action||adventure||family||mystery||sci-fi|</td>\n",
              "    </tr>\n",
              "    <tr>\n",
              "      <th>3</th>\n",
              "      <td>3</td>\n",
              "      <td>American Hero</td>\n",
              "      <td>|action||comedy||drama||sci-fi|</td>\n",
              "    </tr>\n",
              "    <tr>\n",
              "      <th>4</th>\n",
              "      <td>4</td>\n",
              "      <td>Das Boot</td>\n",
              "      <td>|adventure||drama||thriller||war|</td>\n",
              "    </tr>\n",
              "    <tr>\n",
              "      <th>5</th>\n",
              "      <td>5</td>\n",
              "      <td>Final Destination 3</td>\n",
              "      <td>|horror|</td>\n",
              "    </tr>\n",
              "    <tr>\n",
              "      <th>6</th>\n",
              "      <td>6</td>\n",
              "      <td>Licence to Kill</td>\n",
              "      <td>|action||adventure||thriller|</td>\n",
              "    </tr>\n",
              "    <tr>\n",
              "      <th>7</th>\n",
              "      <td>7</td>\n",
              "      <td>The Hundred-Foot Journey</td>\n",
              "      <td>|comedy||drama|</td>\n",
              "    </tr>\n",
              "    <tr>\n",
              "      <th>8</th>\n",
              "      <td>8</td>\n",
              "      <td>The Matrix</td>\n",
              "      <td>|action||sci-fi|</td>\n",
              "    </tr>\n",
              "    <tr>\n",
              "      <th>9</th>\n",
              "      <td>9</td>\n",
              "      <td>Creature</td>\n",
              "      <td>|horror||sci-fi||thriller|</td>\n",
              "    </tr>\n",
              "  </tbody>\n",
              "</table>\n",
              "</div>"
            ],
            "text/plain": [
              "   movieId  ...                                           genres\n",
              "0        0  ...        |action||crime||drama||mystery||thriller|\n",
              "1        1  ...  |adventure||animation||comedy||family||fantasy|\n",
              "2        2  ...     |action||adventure||family||mystery||sci-fi|\n",
              "3        3  ...                  |action||comedy||drama||sci-fi|\n",
              "4        4  ...                |adventure||drama||thriller||war|\n",
              "5        5  ...                                         |horror|\n",
              "6        6  ...                    |action||adventure||thriller|\n",
              "7        7  ...                                  |comedy||drama|\n",
              "8        8  ...                                 |action||sci-fi|\n",
              "9        9  ...                       |horror||sci-fi||thriller|\n",
              "\n",
              "[10 rows x 3 columns]"
            ]
          },
          "metadata": {
            "tags": []
          },
          "execution_count": 135
        }
      ]
    },
    {
      "cell_type": "markdown",
      "metadata": {
        "id": "hG2cimwaP6ax"
      },
      "source": [
        "### Converting to spark data frame"
      ]
    },
    {
      "cell_type": "code",
      "metadata": {
        "id": "z2_yIaA5U0W8"
      },
      "source": [
        "movies = spark.createDataFrame(movie_genres)\r\n",
        "ratings = spark.createDataFrame(rating_pd)\r\n",
        "X_new = spark.createDataFrame(X_new_pd)"
      ],
      "execution_count": 142,
      "outputs": []
    },
    {
      "cell_type": "markdown",
      "metadata": {
        "id": "O3tx9s5B-qLS"
      },
      "source": [
        "### Calculate sparsity"
      ]
    },
    {
      "cell_type": "code",
      "metadata": {
        "colab": {
          "base_uri": "https://localhost:8080/"
        },
        "id": "ZbhFK8c8-qLS",
        "outputId": "0d743eaf-7fc1-4b1f-f6e3-2dfff37827a5"
      },
      "source": [
        "# Count the total number of ratings in the dataset\n",
        "numerator = ratings.select(\"rating\").count()\n",
        "\n",
        "# Count the number of distinct userIds and distinct movieIds\n",
        "num_users = ratings.select(\"userId\").distinct().count()\n",
        "num_movies = ratings.select(\"movieId\").distinct().count()\n",
        "\n",
        "# Set the denominator equal to the number of users multiplied by the number of movies\n",
        "denominator = num_users * num_movies\n",
        "\n",
        "# Divide the numerator by the denominator\n",
        "sparsity = (1.0 - (numerator *1.0)/denominator)*100\n",
        "print(\"The ratings dataframe is \", \"%.2f\" % sparsity + \"% empty.\")"
      ],
      "execution_count": 143,
      "outputs": [
        {
          "output_type": "stream",
          "text": [
            "The ratings dataframe is  98.62% empty.\n"
          ],
          "name": "stdout"
        }
      ]
    },
    {
      "cell_type": "markdown",
      "metadata": {
        "id": "8e7WtC1H-qLT"
      },
      "source": [
        "## Interpret ratings"
      ]
    },
    {
      "cell_type": "code",
      "metadata": {
        "colab": {
          "base_uri": "https://localhost:8080/"
        },
        "id": "fJLlhTeW-qLT",
        "outputId": "949122c9-f399-4b58-fe6f-0ae0a5a49bcf"
      },
      "source": [
        "# Group data by userId, count ratings\n",
        "userId_ratings = ratings.groupBy(\"userId\").count().orderBy('count', ascending=False)\n",
        "userId_ratings.show()"
      ],
      "execution_count": 144,
      "outputs": [
        {
          "output_type": "stream",
          "text": [
            "+------+-----+\n",
            "|userId|count|\n",
            "+------+-----+\n",
            "| 195.0|   46|\n",
            "| 159.0|   44|\n",
            "| 413.0|   44|\n",
            "| 499.0|   43|\n",
            "| 543.0|   43|\n",
            "| 171.0|   43|\n",
            "| 329.0|   42|\n",
            "| 360.0|   42|\n",
            "|  61.0|   40|\n",
            "| 326.0|   40|\n",
            "| 546.0|   40|\n",
            "| 530.0|   40|\n",
            "| 196.0|   40|\n",
            "| 458.0|   40|\n",
            "| 504.0|   40|\n",
            "| 482.0|   40|\n",
            "| 593.0|   40|\n",
            "| 299.0|   39|\n",
            "|   0.0|   39|\n",
            "|  27.0|   39|\n",
            "+------+-----+\n",
            "only showing top 20 rows\n",
            "\n"
          ],
          "name": "stdout"
        }
      ]
    },
    {
      "cell_type": "code",
      "metadata": {
        "colab": {
          "base_uri": "https://localhost:8080/"
        },
        "id": "Y8bVCVQlW6Jz",
        "outputId": "38d6f967-2afd-4bd3-b5c4-950a399835d6"
      },
      "source": [
        "# Group data by userId, count ratings\r\n",
        "movieId_ratings = ratings.groupBy(\"movieId\").count().orderBy('count', ascending=False)\r\n",
        "movieId_ratings.show()"
      ],
      "execution_count": 145,
      "outputs": [
        {
          "output_type": "stream",
          "text": [
            "+-------+-----+\n",
            "|movieId|count|\n",
            "+-------+-----+\n",
            "| 1178.0|   20|\n",
            "|  143.0|   20|\n",
            "| 1894.0|   20|\n",
            "| 1011.0|   19|\n",
            "| 1666.0|   19|\n",
            "| 1944.0|   19|\n",
            "| 1088.0|   19|\n",
            "|  500.0|   19|\n",
            "|  669.0|   18|\n",
            "|  651.0|   18|\n",
            "| 1143.0|   18|\n",
            "|  116.0|   18|\n",
            "| 1080.0|   18|\n",
            "| 1375.0|   18|\n",
            "|  448.0|   18|\n",
            "| 1430.0|   17|\n",
            "| 1812.0|   17|\n",
            "|  282.0|   17|\n",
            "| 1432.0|   17|\n",
            "| 1694.0|   16|\n",
            "+-------+-----+\n",
            "only showing top 20 rows\n",
            "\n"
          ],
          "name": "stdout"
        }
      ]
    },
    {
      "cell_type": "markdown",
      "metadata": {
        "id": "llxcOoD9-qLU"
      },
      "source": [
        "## Build ALS Model"
      ]
    },
    {
      "cell_type": "code",
      "metadata": {
        "id": "iqJcMyO9-qLU"
      },
      "source": [
        "# Import the required functions\n",
        "from pyspark.ml.evaluation import RegressionEvaluator\n",
        "from pyspark.ml.recommendation import ALS\n",
        "from pyspark.ml.tuning import ParamGridBuilder, CrossValidator"
      ],
      "execution_count": 146,
      "outputs": []
    },
    {
      "cell_type": "code",
      "metadata": {
        "colab": {
          "base_uri": "https://localhost:8080/"
        },
        "id": "lGqwrVZo-qLU",
        "outputId": "d1bac79d-3b3d-4160-afe4-20c2f2fb3384"
      },
      "source": [
        "# Create test and train set\n",
        "(train, test) = ratings.randomSplit([0.9, 0.1], seed = 10)\n",
        "\n",
        "# Create ALS model\n",
        "als = ALS(userCol=\"userId\", itemCol=\"movieId\", ratingCol=\"rating\", nonnegative = True, implicitPrefs = False, coldStartStrategy=\"drop\")\n",
        "\n",
        "# Confirm that a model called \"als\" was created\n",
        "type(als)"
      ],
      "execution_count": 147,
      "outputs": [
        {
          "output_type": "execute_result",
          "data": {
            "text/plain": [
              "pyspark.ml.recommendation.ALS"
            ]
          },
          "metadata": {
            "tags": []
          },
          "execution_count": 147
        }
      ]
    },
    {
      "cell_type": "markdown",
      "metadata": {
        "id": "H7367YRB-qLV"
      },
      "source": [
        "## Tell Spark how to tune your ALS model"
      ]
    },
    {
      "cell_type": "code",
      "metadata": {
        "colab": {
          "base_uri": "https://localhost:8080/"
        },
        "id": "-1yWd4Ur-qLV",
        "outputId": "c8a1ef8f-01ab-4189-c17c-8a9b8f4c94d6"
      },
      "source": [
        "# Import the requisite items\n",
        "from pyspark.ml.evaluation import RegressionEvaluator\n",
        "from pyspark.ml.tuning import ParamGridBuilder, CrossValidator\n",
        "\n",
        "# Add hyperparameters and their respective values to param_grid\n",
        "param_grid = ParamGridBuilder() \\\n",
        "            .addGrid(als.rank, [10,30,50,75,100]) \\\n",
        "            .addGrid(als.regParam, [.1]) \\\n",
        "            .build()\n",
        "            #             .addGrid(als.maxIter, [5, 50, 100, 200]) \\\n",
        "\n",
        "           \n",
        "# Define evaluator as RMSE and print length of evaluator\n",
        "evaluator = RegressionEvaluator(metricName=\"rmse\", labelCol=\"rating\", predictionCol=\"prediction\") \n",
        "print (\"Num models to be tested: \", len(param_grid))"
      ],
      "execution_count": 148,
      "outputs": [
        {
          "output_type": "stream",
          "text": [
            "Num models to be tested:  5\n"
          ],
          "name": "stdout"
        }
      ]
    },
    {
      "cell_type": "markdown",
      "metadata": {
        "id": "dTKj8XHO-qLV"
      },
      "source": [
        "## Build your cross validation pipeline"
      ]
    },
    {
      "cell_type": "code",
      "metadata": {
        "colab": {
          "base_uri": "https://localhost:8080/"
        },
        "id": "gAUf3ozq-qLW",
        "outputId": "06c0ba6c-b993-4695-a29d-632d86103c00"
      },
      "source": [
        "# Build cross validation using CrossValidator\n",
        "cv = CrossValidator(estimator=als, estimatorParamMaps=param_grid, evaluator=evaluator, numFolds=5)\n",
        "\n",
        "# Confirm cv was built\n",
        "print(cv)"
      ],
      "execution_count": 149,
      "outputs": [
        {
          "output_type": "stream",
          "text": [
            "CrossValidator_358236c5f3aa\n"
          ],
          "name": "stdout"
        }
      ]
    },
    {
      "cell_type": "markdown",
      "metadata": {
        "id": "HMycBzHw-qLW"
      },
      "source": [
        "## Best Model and Best Model Parameters"
      ]
    },
    {
      "cell_type": "code",
      "metadata": {
        "id": "7wipv4nv-qLW"
      },
      "source": [
        "#Fit cross validator to the 'train' dataset\n",
        "model = cv.fit(train)\n",
        "\n",
        "#Extract best model from the cv model above\n",
        "best_model = model.bestModel"
      ],
      "execution_count": 150,
      "outputs": []
    },
    {
      "cell_type": "code",
      "metadata": {
        "colab": {
          "base_uri": "https://localhost:8080/"
        },
        "id": "hDEv67MD-qLX",
        "outputId": "48157f25-904e-48e1-cd6a-5f7b40796205"
      },
      "source": [
        "\n",
        "# Print best_model\n",
        "print(type(best_model))\n",
        "\n",
        "# Complete the code below to extract the ALS model parameters\n",
        "print(\"**Best Model**\")\n",
        "\n",
        "# # Print \"Rank\"\n",
        "print(\"  Rank:\", best_model._java_obj.parent().getRank())\n",
        "\n",
        "# Print \"MaxIter\"\n",
        "print(\"  MaxIter:\", best_model._java_obj.parent().getMaxIter())\n",
        "\n",
        "# Print \"RegParam\"\n",
        "print(\"  RegParam:\", best_model._java_obj.parent().getRegParam())"
      ],
      "execution_count": 151,
      "outputs": [
        {
          "output_type": "stream",
          "text": [
            "<class 'pyspark.ml.recommendation.ALSModel'>\n",
            "**Best Model**\n",
            "  Rank: 50\n",
            "  MaxIter: 10\n",
            "  RegParam: 0.1\n"
          ],
          "name": "stdout"
        }
      ]
    },
    {
      "cell_type": "code",
      "metadata": {
        "scrolled": true,
        "colab": {
          "base_uri": "https://localhost:8080/"
        },
        "id": "0HFMbBan-qLX",
        "outputId": "9fe18c9b-45bc-42cb-c3cb-f836c2499c0c"
      },
      "source": [
        "# Test model by predicting on test set and compute RMSE\n",
        "test_predictions = best_model.transform(test)\n",
        "RMSE = evaluator.evaluate(test_predictions)\n",
        "print(RMSE)"
      ],
      "execution_count": 153,
      "outputs": [
        {
          "output_type": "stream",
          "text": [
            "1.3329411568262501\n"
          ],
          "name": "stdout"
        }
      ]
    },
    {
      "cell_type": "markdown",
      "metadata": {
        "id": "kFzmvm5oVPX-"
      },
      "source": [
        "### Prediction of unrated movies"
      ]
    },
    {
      "cell_type": "code",
      "metadata": {
        "id": "LP8I6vr7VNfk"
      },
      "source": [
        "Y_pred = best_model.transform(X_new)"
      ],
      "execution_count": 155,
      "outputs": []
    },
    {
      "cell_type": "markdown",
      "metadata": {
        "id": "82YH0x7AV4bM"
      },
      "source": [
        "### Convert result to panda data frame print results"
      ]
    },
    {
      "cell_type": "code",
      "metadata": {
        "id": "qP91jvDlFWbs"
      },
      "source": [
        "prediction = Y_pred.toPandas()\r\n",
        "prediction = prediction.join(user.set_index('userId'), on='userId')\r\n",
        "prediction = prediction.join(movie_genres.set_index('movieId'), on='movieId')"
      ],
      "execution_count": 156,
      "outputs": []
    },
    {
      "cell_type": "markdown",
      "metadata": {
        "id": "dS6FrnP9WQi7"
      },
      "source": [
        "### Rearrange columns"
      ]
    },
    {
      "cell_type": "code",
      "metadata": {
        "id": "wZRLnwTSJDcG"
      },
      "source": [
        "cols=['userId', 'Name', 'movieId', 'title', 'genres', 'prediction']\r\n",
        "prediction = prediction[cols]\r\n"
      ],
      "execution_count": 157,
      "outputs": []
    },
    {
      "cell_type": "markdown",
      "metadata": {
        "id": "642rvKB7WiMH"
      },
      "source": [
        "### Print results for first 5 userId"
      ]
    },
    {
      "cell_type": "code",
      "metadata": {
        "colab": {
          "base_uri": "https://localhost:8080/",
          "height": 402
        },
        "id": "Q3iqXBLy5Ce9",
        "outputId": "768f05ab-df7a-4cc0-ceb5-81a73d8603da"
      },
      "source": [
        "prediction[prediction['userId']==0].sort_values(by='prediction', ascending=False)"
      ],
      "execution_count": 158,
      "outputs": [
        {
          "output_type": "execute_result",
          "data": {
            "text/html": [
              "<div>\n",
              "<style scoped>\n",
              "    .dataframe tbody tr th:only-of-type {\n",
              "        vertical-align: middle;\n",
              "    }\n",
              "\n",
              "    .dataframe tbody tr th {\n",
              "        vertical-align: top;\n",
              "    }\n",
              "\n",
              "    .dataframe thead th {\n",
              "        text-align: right;\n",
              "    }\n",
              "</style>\n",
              "<table border=\"1\" class=\"dataframe\">\n",
              "  <thead>\n",
              "    <tr style=\"text-align: right;\">\n",
              "      <th></th>\n",
              "      <th>userId</th>\n",
              "      <th>Name</th>\n",
              "      <th>movieId</th>\n",
              "      <th>title</th>\n",
              "      <th>genres</th>\n",
              "      <th>prediction</th>\n",
              "    </tr>\n",
              "  </thead>\n",
              "  <tbody>\n",
              "    <tr>\n",
              "      <th>1078780</th>\n",
              "      <td>0.0</td>\n",
              "      <td>Vincent</td>\n",
              "      <td>1011.0</td>\n",
              "      <td>Perrier's Bounty</td>\n",
              "      <td>|action||comedy||crime||drama||romance||thriller|</td>\n",
              "      <td>4.891662</td>\n",
              "    </tr>\n",
              "    <tr>\n",
              "      <th>853389</th>\n",
              "      <td>0.0</td>\n",
              "      <td>Vincent</td>\n",
              "      <td>1587.0</td>\n",
              "      <td>Street Fighter: The Legend of Chun-Li</td>\n",
              "      <td>|action||crime||drama||mystery||thriller|</td>\n",
              "      <td>4.847449</td>\n",
              "    </tr>\n",
              "    <tr>\n",
              "      <th>1119555</th>\n",
              "      <td>0.0</td>\n",
              "      <td>Vincent</td>\n",
              "      <td>172.0</td>\n",
              "      <td>The Magic Sword: Quest for Camelot</td>\n",
              "      <td>|adventure||animation||comedy||drama||family||...</td>\n",
              "      <td>4.720531</td>\n",
              "    </tr>\n",
              "    <tr>\n",
              "      <th>557541</th>\n",
              "      <td>0.0</td>\n",
              "      <td>Vincent</td>\n",
              "      <td>1072.0</td>\n",
              "      <td>The Pacifier</td>\n",
              "      <td>|action||comedy||drama||family||thriller|</td>\n",
              "      <td>4.634796</td>\n",
              "    </tr>\n",
              "    <tr>\n",
              "      <th>1066961</th>\n",
              "      <td>0.0</td>\n",
              "      <td>Vincent</td>\n",
              "      <td>1187.0</td>\n",
              "      <td>Kiss the Girls</td>\n",
              "      <td>|crime||drama||mystery||thriller|</td>\n",
              "      <td>4.616664</td>\n",
              "    </tr>\n",
              "    <tr>\n",
              "      <th>...</th>\n",
              "      <td>...</td>\n",
              "      <td>...</td>\n",
              "      <td>...</td>\n",
              "      <td>...</td>\n",
              "      <td>...</td>\n",
              "      <td>...</td>\n",
              "    </tr>\n",
              "    <tr>\n",
              "      <th>247958</th>\n",
              "      <td>0.0</td>\n",
              "      <td>Vincent</td>\n",
              "      <td>774.0</td>\n",
              "      <td>12 Rounds</td>\n",
              "      <td>|action||crime||thriller|</td>\n",
              "      <td>1.135820</td>\n",
              "    </tr>\n",
              "    <tr>\n",
              "      <th>741021</th>\n",
              "      <td>0.0</td>\n",
              "      <td>Vincent</td>\n",
              "      <td>589.0</td>\n",
              "      <td>Richard III</td>\n",
              "      <td>|drama||war|</td>\n",
              "      <td>1.131019</td>\n",
              "    </tr>\n",
              "    <tr>\n",
              "      <th>1074655</th>\n",
              "      <td>0.0</td>\n",
              "      <td>Vincent</td>\n",
              "      <td>1571.0</td>\n",
              "      <td>Pale Rider</td>\n",
              "      <td>|western|</td>\n",
              "      <td>1.068643</td>\n",
              "    </tr>\n",
              "    <tr>\n",
              "      <th>158577</th>\n",
              "      <td>0.0</td>\n",
              "      <td>Vincent</td>\n",
              "      <td>388.0</td>\n",
              "      <td>The Wolf of Wall Street</td>\n",
              "      <td>|biography||comedy||crime||drama|</td>\n",
              "      <td>0.905781</td>\n",
              "    </tr>\n",
              "    <tr>\n",
              "      <th>182228</th>\n",
              "      <td>0.0</td>\n",
              "      <td>Vincent</td>\n",
              "      <td>604.0</td>\n",
              "      <td>The Men Who Stare at Goats</td>\n",
              "      <td>|comedy||war|</td>\n",
              "      <td>0.646999</td>\n",
              "    </tr>\n",
              "  </tbody>\n",
              "</table>\n",
              "<p>1960 rows × 6 columns</p>\n",
              "</div>"
            ],
            "text/plain": [
              "         userId  ... prediction\n",
              "1078780     0.0  ...   4.891662\n",
              "853389      0.0  ...   4.847449\n",
              "1119555     0.0  ...   4.720531\n",
              "557541      0.0  ...   4.634796\n",
              "1066961     0.0  ...   4.616664\n",
              "...         ...  ...        ...\n",
              "247958      0.0  ...   1.135820\n",
              "741021      0.0  ...   1.131019\n",
              "1074655     0.0  ...   1.068643\n",
              "158577      0.0  ...   0.905781\n",
              "182228      0.0  ...   0.646999\n",
              "\n",
              "[1960 rows x 6 columns]"
            ]
          },
          "metadata": {
            "tags": []
          },
          "execution_count": 158
        }
      ]
    },
    {
      "cell_type": "code",
      "metadata": {
        "colab": {
          "base_uri": "https://localhost:8080/",
          "height": 402
        },
        "id": "hdH-jrAUWuvJ",
        "outputId": "970deb42-e94a-4b64-c479-02800e5aaa3b"
      },
      "source": [
        "prediction[prediction['userId']==1].sort_values(by='prediction', ascending=False)"
      ],
      "execution_count": 159,
      "outputs": [
        {
          "output_type": "execute_result",
          "data": {
            "text/html": [
              "<div>\n",
              "<style scoped>\n",
              "    .dataframe tbody tr th:only-of-type {\n",
              "        vertical-align: middle;\n",
              "    }\n",
              "\n",
              "    .dataframe tbody tr th {\n",
              "        vertical-align: top;\n",
              "    }\n",
              "\n",
              "    .dataframe thead th {\n",
              "        text-align: right;\n",
              "    }\n",
              "</style>\n",
              "<table border=\"1\" class=\"dataframe\">\n",
              "  <thead>\n",
              "    <tr style=\"text-align: right;\">\n",
              "      <th></th>\n",
              "      <th>userId</th>\n",
              "      <th>Name</th>\n",
              "      <th>movieId</th>\n",
              "      <th>title</th>\n",
              "      <th>genres</th>\n",
              "      <th>prediction</th>\n",
              "    </tr>\n",
              "  </thead>\n",
              "  <tbody>\n",
              "    <tr>\n",
              "      <th>786761</th>\n",
              "      <td>1.0</td>\n",
              "      <td>Edgar</td>\n",
              "      <td>1049.0</td>\n",
              "      <td>Zodiac</td>\n",
              "      <td>|crime||drama||history||mystery||thriller|</td>\n",
              "      <td>5.063781</td>\n",
              "    </tr>\n",
              "    <tr>\n",
              "      <th>235093</th>\n",
              "      <td>1.0</td>\n",
              "      <td>Edgar</td>\n",
              "      <td>1542.0</td>\n",
              "      <td>Wild Things</td>\n",
              "      <td>|crime||drama||mystery||thriller|</td>\n",
              "      <td>5.031269</td>\n",
              "    </tr>\n",
              "    <tr>\n",
              "      <th>145704</th>\n",
              "      <td>1.0</td>\n",
              "      <td>Edgar</td>\n",
              "      <td>236.0</td>\n",
              "      <td>Seeking a Friend for the End of the World</td>\n",
              "      <td>|adventure||comedy||drama||romance||sci-fi|</td>\n",
              "      <td>4.950089</td>\n",
              "    </tr>\n",
              "    <tr>\n",
              "      <th>1078346</th>\n",
              "      <td>1.0</td>\n",
              "      <td>Edgar</td>\n",
              "      <td>1011.0</td>\n",
              "      <td>Perrier's Bounty</td>\n",
              "      <td>|action||comedy||crime||drama||romance||thriller|</td>\n",
              "      <td>4.916863</td>\n",
              "    </tr>\n",
              "    <tr>\n",
              "      <th>1032215</th>\n",
              "      <td>1.0</td>\n",
              "      <td>Edgar</td>\n",
              "      <td>1983.0</td>\n",
              "      <td>Force 10 from Navarone</td>\n",
              "      <td>|action||drama||war|</td>\n",
              "      <td>4.798882</td>\n",
              "    </tr>\n",
              "    <tr>\n",
              "      <th>...</th>\n",
              "      <td>...</td>\n",
              "      <td>...</td>\n",
              "      <td>...</td>\n",
              "      <td>...</td>\n",
              "      <td>...</td>\n",
              "      <td>...</td>\n",
              "    </tr>\n",
              "    <tr>\n",
              "      <th>1074209</th>\n",
              "      <td>1.0</td>\n",
              "      <td>Edgar</td>\n",
              "      <td>1571.0</td>\n",
              "      <td>Pale Rider</td>\n",
              "      <td>|western|</td>\n",
              "      <td>1.133976</td>\n",
              "    </tr>\n",
              "    <tr>\n",
              "      <th>158128</th>\n",
              "      <td>1.0</td>\n",
              "      <td>Edgar</td>\n",
              "      <td>388.0</td>\n",
              "      <td>The Wolf of Wall Street</td>\n",
              "      <td>|biography||comedy||crime||drama|</td>\n",
              "      <td>0.939729</td>\n",
              "    </tr>\n",
              "    <tr>\n",
              "      <th>724022</th>\n",
              "      <td>1.0</td>\n",
              "      <td>Edgar</td>\n",
              "      <td>1714.0</td>\n",
              "      <td>Eve's Bayou</td>\n",
              "      <td>|drama|</td>\n",
              "      <td>0.918976</td>\n",
              "    </tr>\n",
              "    <tr>\n",
              "      <th>568359</th>\n",
              "      <td>1.0</td>\n",
              "      <td>Edgar</td>\n",
              "      <td>742.0</td>\n",
              "      <td>The Innkeepers</td>\n",
              "      <td>|horror|</td>\n",
              "      <td>0.863868</td>\n",
              "    </tr>\n",
              "    <tr>\n",
              "      <th>181779</th>\n",
              "      <td>1.0</td>\n",
              "      <td>Edgar</td>\n",
              "      <td>604.0</td>\n",
              "      <td>The Men Who Stare at Goats</td>\n",
              "      <td>|comedy||war|</td>\n",
              "      <td>0.539781</td>\n",
              "    </tr>\n",
              "  </tbody>\n",
              "</table>\n",
              "<p>1969 rows × 6 columns</p>\n",
              "</div>"
            ],
            "text/plain": [
              "         userId  ... prediction\n",
              "786761      1.0  ...   5.063781\n",
              "235093      1.0  ...   5.031269\n",
              "145704      1.0  ...   4.950089\n",
              "1078346     1.0  ...   4.916863\n",
              "1032215     1.0  ...   4.798882\n",
              "...         ...  ...        ...\n",
              "1074209     1.0  ...   1.133976\n",
              "158128      1.0  ...   0.939729\n",
              "724022      1.0  ...   0.918976\n",
              "568359      1.0  ...   0.863868\n",
              "181779      1.0  ...   0.539781\n",
              "\n",
              "[1969 rows x 6 columns]"
            ]
          },
          "metadata": {
            "tags": []
          },
          "execution_count": 159
        }
      ]
    },
    {
      "cell_type": "code",
      "metadata": {
        "colab": {
          "base_uri": "https://localhost:8080/",
          "height": 402
        },
        "id": "ZfC76bRdW9MP",
        "outputId": "fb95b342-5a93-42ba-e86e-c4adff31cb26"
      },
      "source": [
        "prediction[prediction['userId']==2].sort_values(by='prediction', ascending=False)"
      ],
      "execution_count": 160,
      "outputs": [
        {
          "output_type": "execute_result",
          "data": {
            "text/html": [
              "<div>\n",
              "<style scoped>\n",
              "    .dataframe tbody tr th:only-of-type {\n",
              "        vertical-align: middle;\n",
              "    }\n",
              "\n",
              "    .dataframe tbody tr th {\n",
              "        vertical-align: top;\n",
              "    }\n",
              "\n",
              "    .dataframe thead th {\n",
              "        text-align: right;\n",
              "    }\n",
              "</style>\n",
              "<table border=\"1\" class=\"dataframe\">\n",
              "  <thead>\n",
              "    <tr style=\"text-align: right;\">\n",
              "      <th></th>\n",
              "      <th>userId</th>\n",
              "      <th>Name</th>\n",
              "      <th>movieId</th>\n",
              "      <th>title</th>\n",
              "      <th>genres</th>\n",
              "      <th>prediction</th>\n",
              "    </tr>\n",
              "  </thead>\n",
              "  <tbody>\n",
              "    <tr>\n",
              "      <th>540344</th>\n",
              "      <td>2.0</td>\n",
              "      <td>Addilyn</td>\n",
              "      <td>1211.0</td>\n",
              "      <td>Morning Glory</td>\n",
              "      <td>|comedy||drama||romance|</td>\n",
              "      <td>4.895284</td>\n",
              "    </tr>\n",
              "    <tr>\n",
              "      <th>512534</th>\n",
              "      <td>2.0</td>\n",
              "      <td>Addilyn</td>\n",
              "      <td>547.0</td>\n",
              "      <td>Astro Boy</td>\n",
              "      <td>|action||animation||comedy||family||sci-fi|</td>\n",
              "      <td>4.849523</td>\n",
              "    </tr>\n",
              "    <tr>\n",
              "      <th>778896</th>\n",
              "      <td>2.0</td>\n",
              "      <td>Addilyn</td>\n",
              "      <td>1918.0</td>\n",
              "      <td>88 Minutes</td>\n",
              "      <td>|crime||drama||mystery||thriller|</td>\n",
              "      <td>4.716270</td>\n",
              "    </tr>\n",
              "    <tr>\n",
              "      <th>1017246</th>\n",
              "      <td>2.0</td>\n",
              "      <td>Addilyn</td>\n",
              "      <td>1728.0</td>\n",
              "      <td>BrainDead</td>\n",
              "      <td>|comedy||drama||horror||sci-fi||thriller|</td>\n",
              "      <td>4.701271</td>\n",
              "    </tr>\n",
              "    <tr>\n",
              "      <th>370515</th>\n",
              "      <td>2.0</td>\n",
              "      <td>Addilyn</td>\n",
              "      <td>1847.0</td>\n",
              "      <td>Sinbad: Legend of the Seven Seas</td>\n",
              "      <td>|adventure||animation||comedy||drama||family||...</td>\n",
              "      <td>4.686368</td>\n",
              "    </tr>\n",
              "    <tr>\n",
              "      <th>...</th>\n",
              "      <td>...</td>\n",
              "      <td>...</td>\n",
              "      <td>...</td>\n",
              "      <td>...</td>\n",
              "      <td>...</td>\n",
              "      <td>...</td>\n",
              "    </tr>\n",
              "    <tr>\n",
              "      <th>568765</th>\n",
              "      <td>2.0</td>\n",
              "      <td>Addilyn</td>\n",
              "      <td>742.0</td>\n",
              "      <td>The Innkeepers</td>\n",
              "      <td>|horror|</td>\n",
              "      <td>1.282332</td>\n",
              "    </tr>\n",
              "    <tr>\n",
              "      <th>494179</th>\n",
              "      <td>2.0</td>\n",
              "      <td>Addilyn</td>\n",
              "      <td>383.0</td>\n",
              "      <td>Frenzy</td>\n",
              "      <td>|thriller|</td>\n",
              "      <td>1.158899</td>\n",
              "    </tr>\n",
              "    <tr>\n",
              "      <th>1074614</th>\n",
              "      <td>2.0</td>\n",
              "      <td>Addilyn</td>\n",
              "      <td>1571.0</td>\n",
              "      <td>Pale Rider</td>\n",
              "      <td>|western|</td>\n",
              "      <td>1.108552</td>\n",
              "    </tr>\n",
              "    <tr>\n",
              "      <th>182187</th>\n",
              "      <td>2.0</td>\n",
              "      <td>Addilyn</td>\n",
              "      <td>604.0</td>\n",
              "      <td>The Men Who Stare at Goats</td>\n",
              "      <td>|comedy||war|</td>\n",
              "      <td>0.765583</td>\n",
              "    </tr>\n",
              "    <tr>\n",
              "      <th>158537</th>\n",
              "      <td>2.0</td>\n",
              "      <td>Addilyn</td>\n",
              "      <td>388.0</td>\n",
              "      <td>The Wolf of Wall Street</td>\n",
              "      <td>|biography||comedy||crime||drama|</td>\n",
              "      <td>0.761507</td>\n",
              "    </tr>\n",
              "  </tbody>\n",
              "</table>\n",
              "<p>1963 rows × 6 columns</p>\n",
              "</div>"
            ],
            "text/plain": [
              "         userId  ... prediction\n",
              "540344      2.0  ...   4.895284\n",
              "512534      2.0  ...   4.849523\n",
              "778896      2.0  ...   4.716270\n",
              "1017246     2.0  ...   4.701271\n",
              "370515      2.0  ...   4.686368\n",
              "...         ...  ...        ...\n",
              "568765      2.0  ...   1.282332\n",
              "494179      2.0  ...   1.158899\n",
              "1074614     2.0  ...   1.108552\n",
              "182187      2.0  ...   0.765583\n",
              "158537      2.0  ...   0.761507\n",
              "\n",
              "[1963 rows x 6 columns]"
            ]
          },
          "metadata": {
            "tags": []
          },
          "execution_count": 160
        }
      ]
    },
    {
      "cell_type": "code",
      "metadata": {
        "colab": {
          "base_uri": "https://localhost:8080/",
          "height": 402
        },
        "id": "SByomVarXDTc",
        "outputId": "7ccd665e-f43f-4b1e-e5d7-22926376e86c"
      },
      "source": [
        "prediction[prediction['userId']==3].sort_values(by='prediction', ascending=False)"
      ],
      "execution_count": 161,
      "outputs": [
        {
          "output_type": "execute_result",
          "data": {
            "text/html": [
              "<div>\n",
              "<style scoped>\n",
              "    .dataframe tbody tr th:only-of-type {\n",
              "        vertical-align: middle;\n",
              "    }\n",
              "\n",
              "    .dataframe tbody tr th {\n",
              "        vertical-align: top;\n",
              "    }\n",
              "\n",
              "    .dataframe thead th {\n",
              "        text-align: right;\n",
              "    }\n",
              "</style>\n",
              "<table border=\"1\" class=\"dataframe\">\n",
              "  <thead>\n",
              "    <tr style=\"text-align: right;\">\n",
              "      <th></th>\n",
              "      <th>userId</th>\n",
              "      <th>Name</th>\n",
              "      <th>movieId</th>\n",
              "      <th>title</th>\n",
              "      <th>genres</th>\n",
              "      <th>prediction</th>\n",
              "    </tr>\n",
              "  </thead>\n",
              "  <tbody>\n",
              "    <tr>\n",
              "      <th>801555</th>\n",
              "      <td>3.0</td>\n",
              "      <td>Marlee</td>\n",
              "      <td>1126.0</td>\n",
              "      <td>Dutch Kills</td>\n",
              "      <td>|crime||drama||thriller|</td>\n",
              "      <td>4.550503</td>\n",
              "    </tr>\n",
              "    <tr>\n",
              "      <th>693271</th>\n",
              "      <td>3.0</td>\n",
              "      <td>Marlee</td>\n",
              "      <td>1388.0</td>\n",
              "      <td>The Hunting Party</td>\n",
              "      <td>|adventure||comedy||drama||romance||thriller||...</td>\n",
              "      <td>4.466138</td>\n",
              "    </tr>\n",
              "    <tr>\n",
              "      <th>234526</th>\n",
              "      <td>3.0</td>\n",
              "      <td>Marlee</td>\n",
              "      <td>1512.0</td>\n",
              "      <td>Red State</td>\n",
              "      <td>|action||crime||horror||thriller|</td>\n",
              "      <td>4.367875</td>\n",
              "    </tr>\n",
              "    <tr>\n",
              "      <th>197819</th>\n",
              "      <td>3.0</td>\n",
              "      <td>Marlee</td>\n",
              "      <td>225.0</td>\n",
              "      <td>How to Lose Friends &amp; Alienate People</td>\n",
              "      <td>|comedy||drama||romance|</td>\n",
              "      <td>4.330592</td>\n",
              "    </tr>\n",
              "    <tr>\n",
              "      <th>1078367</th>\n",
              "      <td>3.0</td>\n",
              "      <td>Marlee</td>\n",
              "      <td>1011.0</td>\n",
              "      <td>Perrier's Bounty</td>\n",
              "      <td>|action||comedy||crime||drama||romance||thriller|</td>\n",
              "      <td>4.277447</td>\n",
              "    </tr>\n",
              "    <tr>\n",
              "      <th>...</th>\n",
              "      <td>...</td>\n",
              "      <td>...</td>\n",
              "      <td>...</td>\n",
              "      <td>...</td>\n",
              "      <td>...</td>\n",
              "      <td>...</td>\n",
              "    </tr>\n",
              "    <tr>\n",
              "      <th>647688</th>\n",
              "      <td>3.0</td>\n",
              "      <td>Marlee</td>\n",
              "      <td>244.0</td>\n",
              "      <td>The Final Destination</td>\n",
              "      <td>|horror|</td>\n",
              "      <td>1.058703</td>\n",
              "    </tr>\n",
              "    <tr>\n",
              "      <th>1074230</th>\n",
              "      <td>3.0</td>\n",
              "      <td>Marlee</td>\n",
              "      <td>1571.0</td>\n",
              "      <td>Pale Rider</td>\n",
              "      <td>|western|</td>\n",
              "      <td>1.057423</td>\n",
              "    </tr>\n",
              "    <tr>\n",
              "      <th>247530</th>\n",
              "      <td>3.0</td>\n",
              "      <td>Marlee</td>\n",
              "      <td>774.0</td>\n",
              "      <td>12 Rounds</td>\n",
              "      <td>|action||crime||thriller|</td>\n",
              "      <td>1.027408</td>\n",
              "    </tr>\n",
              "    <tr>\n",
              "      <th>158149</th>\n",
              "      <td>3.0</td>\n",
              "      <td>Marlee</td>\n",
              "      <td>388.0</td>\n",
              "      <td>The Wolf of Wall Street</td>\n",
              "      <td>|biography||comedy||crime||drama|</td>\n",
              "      <td>0.823058</td>\n",
              "    </tr>\n",
              "    <tr>\n",
              "      <th>181799</th>\n",
              "      <td>3.0</td>\n",
              "      <td>Marlee</td>\n",
              "      <td>604.0</td>\n",
              "      <td>The Men Who Stare at Goats</td>\n",
              "      <td>|comedy||war|</td>\n",
              "      <td>0.615700</td>\n",
              "    </tr>\n",
              "  </tbody>\n",
              "</table>\n",
              "<p>1967 rows × 6 columns</p>\n",
              "</div>"
            ],
            "text/plain": [
              "         userId  ... prediction\n",
              "801555      3.0  ...   4.550503\n",
              "693271      3.0  ...   4.466138\n",
              "234526      3.0  ...   4.367875\n",
              "197819      3.0  ...   4.330592\n",
              "1078367     3.0  ...   4.277447\n",
              "...         ...  ...        ...\n",
              "647688      3.0  ...   1.058703\n",
              "1074230     3.0  ...   1.057423\n",
              "247530      3.0  ...   1.027408\n",
              "158149      3.0  ...   0.823058\n",
              "181799      3.0  ...   0.615700\n",
              "\n",
              "[1967 rows x 6 columns]"
            ]
          },
          "metadata": {
            "tags": []
          },
          "execution_count": 161
        }
      ]
    },
    {
      "cell_type": "code",
      "metadata": {
        "colab": {
          "base_uri": "https://localhost:8080/",
          "height": 402
        },
        "id": "nhpyaqVQXJGP",
        "outputId": "378e0c54-9da2-49ab-a0fa-5fac35494439"
      },
      "source": [
        "prediction[prediction['userId']==4].sort_values(by='prediction', ascending=False)"
      ],
      "execution_count": 162,
      "outputs": [
        {
          "output_type": "execute_result",
          "data": {
            "text/html": [
              "<div>\n",
              "<style scoped>\n",
              "    .dataframe tbody tr th:only-of-type {\n",
              "        vertical-align: middle;\n",
              "    }\n",
              "\n",
              "    .dataframe tbody tr th {\n",
              "        vertical-align: top;\n",
              "    }\n",
              "\n",
              "    .dataframe thead th {\n",
              "        text-align: right;\n",
              "    }\n",
              "</style>\n",
              "<table border=\"1\" class=\"dataframe\">\n",
              "  <thead>\n",
              "    <tr style=\"text-align: right;\">\n",
              "      <th></th>\n",
              "      <th>userId</th>\n",
              "      <th>Name</th>\n",
              "      <th>movieId</th>\n",
              "      <th>title</th>\n",
              "      <th>genres</th>\n",
              "      <th>prediction</th>\n",
              "    </tr>\n",
              "  </thead>\n",
              "  <tbody>\n",
              "    <tr>\n",
              "      <th>557265</th>\n",
              "      <td>4.0</td>\n",
              "      <td>Javier</td>\n",
              "      <td>1072.0</td>\n",
              "      <td>The Pacifier</td>\n",
              "      <td>|action||comedy||drama||family||thriller|</td>\n",
              "      <td>4.271224</td>\n",
              "    </tr>\n",
              "    <tr>\n",
              "      <th>160076</th>\n",
              "      <td>4.0</td>\n",
              "      <td>Javier</td>\n",
              "      <td>602.0</td>\n",
              "      <td>Bad Company</td>\n",
              "      <td>|action||adventure||comedy||thriller|</td>\n",
              "      <td>4.247203</td>\n",
              "    </tr>\n",
              "    <tr>\n",
              "      <th>1100966</th>\n",
              "      <td>4.0</td>\n",
              "      <td>Javier</td>\n",
              "      <td>605.0</td>\n",
              "      <td>Sex and the City 2</td>\n",
              "      <td>|comedy||drama||romance|</td>\n",
              "      <td>4.097620</td>\n",
              "    </tr>\n",
              "    <tr>\n",
              "      <th>512299</th>\n",
              "      <td>4.0</td>\n",
              "      <td>Javier</td>\n",
              "      <td>547.0</td>\n",
              "      <td>Astro Boy</td>\n",
              "      <td>|action||animation||comedy||family||sci-fi|</td>\n",
              "      <td>4.065212</td>\n",
              "    </tr>\n",
              "    <tr>\n",
              "      <th>904623</th>\n",
              "      <td>4.0</td>\n",
              "      <td>Javier</td>\n",
              "      <td>630.0</td>\n",
              "      <td>Chill Factor</td>\n",
              "      <td>|action||adventure||comedy||drama||thriller|</td>\n",
              "      <td>4.024970</td>\n",
              "    </tr>\n",
              "    <tr>\n",
              "      <th>...</th>\n",
              "      <td>...</td>\n",
              "      <td>...</td>\n",
              "      <td>...</td>\n",
              "      <td>...</td>\n",
              "      <td>...</td>\n",
              "      <td>...</td>\n",
              "    </tr>\n",
              "    <tr>\n",
              "      <th>247679</th>\n",
              "      <td>4.0</td>\n",
              "      <td>Javier</td>\n",
              "      <td>774.0</td>\n",
              "      <td>12 Rounds</td>\n",
              "      <td>|action||crime||thriller|</td>\n",
              "      <td>0.988118</td>\n",
              "    </tr>\n",
              "    <tr>\n",
              "      <th>647837</th>\n",
              "      <td>4.0</td>\n",
              "      <td>Javier</td>\n",
              "      <td>244.0</td>\n",
              "      <td>The Final Destination</td>\n",
              "      <td>|horror|</td>\n",
              "      <td>0.951566</td>\n",
              "    </tr>\n",
              "    <tr>\n",
              "      <th>691638</th>\n",
              "      <td>4.0</td>\n",
              "      <td>Javier</td>\n",
              "      <td>821.0</td>\n",
              "      <td>This Is England</td>\n",
              "      <td>|crime||drama|</td>\n",
              "      <td>0.878433</td>\n",
              "    </tr>\n",
              "    <tr>\n",
              "      <th>158298</th>\n",
              "      <td>4.0</td>\n",
              "      <td>Javier</td>\n",
              "      <td>388.0</td>\n",
              "      <td>The Wolf of Wall Street</td>\n",
              "      <td>|biography||comedy||crime||drama|</td>\n",
              "      <td>0.844921</td>\n",
              "    </tr>\n",
              "    <tr>\n",
              "      <th>181948</th>\n",
              "      <td>4.0</td>\n",
              "      <td>Javier</td>\n",
              "      <td>604.0</td>\n",
              "      <td>The Men Who Stare at Goats</td>\n",
              "      <td>|comedy||war|</td>\n",
              "      <td>0.706154</td>\n",
              "    </tr>\n",
              "  </tbody>\n",
              "</table>\n",
              "<p>1971 rows × 6 columns</p>\n",
              "</div>"
            ],
            "text/plain": [
              "         userId  ... prediction\n",
              "557265      4.0  ...   4.271224\n",
              "160076      4.0  ...   4.247203\n",
              "1100966     4.0  ...   4.097620\n",
              "512299      4.0  ...   4.065212\n",
              "904623      4.0  ...   4.024970\n",
              "...         ...  ...        ...\n",
              "247679      4.0  ...   0.988118\n",
              "647837      4.0  ...   0.951566\n",
              "691638      4.0  ...   0.878433\n",
              "158298      4.0  ...   0.844921\n",
              "181948      4.0  ...   0.706154\n",
              "\n",
              "[1971 rows x 6 columns]"
            ]
          },
          "metadata": {
            "tags": []
          },
          "execution_count": 162
        }
      ]
    }
  ]
}